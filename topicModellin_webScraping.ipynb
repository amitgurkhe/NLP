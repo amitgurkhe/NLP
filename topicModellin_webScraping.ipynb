{
 "cells": [
  {
   "cell_type": "raw",
   "metadata": {},
   "source": [
    "import ssl\n",
    "try:\n",
    "    _create_unverified_https_context = ssl._create_unverified_context\n",
    "except AttributeError:\n",
    "     pass\n",
    "else:\n",
    "    ssl._create_default_https_context = _create_unverified_https_context"
   ]
  },
  {
   "cell_type": "code",
   "execution_count": 44,
   "metadata": {},
   "outputs": [],
   "source": [
    "import requests\n",
    "from bs4 import BeautifulSoup"
   ]
  },
  {
   "cell_type": "code",
   "execution_count": 45,
   "metadata": {},
   "outputs": [],
   "source": [
    "url=\"https://www.ndtv.com/latest/page-2\"\n",
    "header={\"User-Agent\":\"Mozilla/5.0\"}\n",
    "data=requests.get(url,headers=header)"
   ]
  },
  {
   "cell_type": "code",
   "execution_count": 46,
   "metadata": {},
   "outputs": [],
   "source": [
    "soup=BeautifulSoup(data.content,\"html.parser\")"
   ]
  },
  {
   "cell_type": "code",
   "execution_count": 47,
   "metadata": {},
   "outputs": [
    {
     "name": "stdout",
     "output_type": "stream",
     "text": [
      "Poll Body Warns Against \"Politically Motivated Complaints\" In Bengal Election\n",
      "IBM Hit by Rare Sales Decline in Software Units, Posts Disappointing Quarterly Revenue\n",
      "3 Reasons Why Strength Training Is Important For Women\n",
      "Sara Ali Khan Lights Up Instagram With New Pics From Her Maldives Vacation\n",
      "GPAT 2021: NTA Extends Pharmacy Aptitude Test Application Deadline\n",
      "Amazon, Apple, Facebook, Google CEOs Invited to EU Hearing on Big Tech on February 1\n",
      "Chelsea Defender Fikayo Tomori Joins AC Milan On Loan\n",
      "GM Warns Maharashtra's Move To Block Its Exit Could Hit Investment\n",
      "Won't Reduce Troops At Border Unless China Does, Says Rajnath Singh\n",
      "TikTok Asked to Block Users With Unverified Age in Italy Following Death of 10-Year-Old Girl\n",
      "2021 Tata Altroz iTurbo Launched In India; Prices Start At Rs. 7.73 Lakh\n",
      "Diabetes: 7 Ways The Condition Can Affect Your Body\n",
      "Replica Of Ram Temple To Be Showcased In UP's Republic Day Parade Tableau\n",
      "Over 3 Lakh People Vaccinated In A Day For First Time, Total 13.9 Lakh\n",
      "<I>The White Tiger</i>: \"So Incredibly Proud Of My Wife,\" Writes Nick Jonas For Priyanka Chopra\n"
     ]
    }
   ],
   "source": [
    "for i in soup.find_all(\"div\",class_=\"new_storylising_contentwrap\"):\n",
    "    print(i.find(\"a\")[\"title\"])"
   ]
  },
  {
   "cell_type": "code",
   "execution_count": 48,
   "metadata": {},
   "outputs": [],
   "source": [
    "urllist=[]\n",
    "for i in range(2,9,1):\n",
    "    url=\"https://www.ndtv.com/latest/page-\" + str(i)\n",
    "    urllist.append(url)"
   ]
  },
  {
   "cell_type": "code",
   "execution_count": 49,
   "metadata": {},
   "outputs": [],
   "source": [
    "headlines=[]\n",
    "for i in urllist:\n",
    "    data=requests.get(i,headers=header)\n",
    "    soup=BeautifulSoup(data.content,\"html.parser\")\n",
    "    for j in soup(\"div\",class_=\"new_storylising_contentwrap\"):\n",
    "        headlines.append(j.find(\"a\")[\"title\"])"
   ]
  },
  {
   "cell_type": "code",
   "execution_count": 50,
   "metadata": {},
   "outputs": [],
   "source": [
    "import pandas as pd\n",
    "A=pd.DataFrame()\n",
    "A[\"HEadlines\"]=headlines"
   ]
  },
  {
   "cell_type": "code",
   "execution_count": 51,
   "metadata": {},
   "outputs": [
    {
     "data": {
      "text/html": [
       "<div>\n",
       "<style scoped>\n",
       "    .dataframe tbody tr th:only-of-type {\n",
       "        vertical-align: middle;\n",
       "    }\n",
       "\n",
       "    .dataframe tbody tr th {\n",
       "        vertical-align: top;\n",
       "    }\n",
       "\n",
       "    .dataframe thead th {\n",
       "        text-align: right;\n",
       "    }\n",
       "</style>\n",
       "<table border=\"1\" class=\"dataframe\">\n",
       "  <thead>\n",
       "    <tr style=\"text-align: right;\">\n",
       "      <th></th>\n",
       "      <th>HEadlines</th>\n",
       "    </tr>\n",
       "  </thead>\n",
       "  <tbody>\n",
       "    <tr>\n",
       "      <th>0</th>\n",
       "      <td>Poll Body Warns Against \"Politically Motivated...</td>\n",
       "    </tr>\n",
       "    <tr>\n",
       "      <th>1</th>\n",
       "      <td>IBM Hit by Rare Sales Decline in Software Unit...</td>\n",
       "    </tr>\n",
       "    <tr>\n",
       "      <th>2</th>\n",
       "      <td>3 Reasons Why Strength Training Is Important F...</td>\n",
       "    </tr>\n",
       "    <tr>\n",
       "      <th>3</th>\n",
       "      <td>Sara Ali Khan Lights Up Instagram With New Pic...</td>\n",
       "    </tr>\n",
       "    <tr>\n",
       "      <th>4</th>\n",
       "      <td>GPAT 2021: NTA Extends Pharmacy Aptitude Test ...</td>\n",
       "    </tr>\n",
       "  </tbody>\n",
       "</table>\n",
       "</div>"
      ],
      "text/plain": [
       "                                           HEadlines\n",
       "0  Poll Body Warns Against \"Politically Motivated...\n",
       "1  IBM Hit by Rare Sales Decline in Software Unit...\n",
       "2  3 Reasons Why Strength Training Is Important F...\n",
       "3  Sara Ali Khan Lights Up Instagram With New Pic...\n",
       "4  GPAT 2021: NTA Extends Pharmacy Aptitude Test ..."
      ]
     },
     "execution_count": 51,
     "metadata": {},
     "output_type": "execute_result"
    }
   ],
   "source": [
    "A.head()"
   ]
  },
  {
   "cell_type": "code",
   "execution_count": 52,
   "metadata": {},
   "outputs": [],
   "source": [
    "from preprocessing import masterprocess,rmsplchar,token\n",
    "\n",
    "w=[]\n",
    "for i in A.HEadlines:\n",
    "    for j in (masterprocess(i)):\n",
    "        w.append(j)"
   ]
  },
  {
   "cell_type": "code",
   "execution_count": 53,
   "metadata": {},
   "outputs": [],
   "source": [
    "from sklearn.feature_extraction.text import TfidfVectorizer\n",
    "tf=TfidfVectorizer()\n",
    "X=tf.fit_transform(w)"
   ]
  },
  {
   "cell_type": "code",
   "execution_count": 54,
   "metadata": {},
   "outputs": [],
   "source": [
    "q1=tf.get_feature_names()"
   ]
  },
  {
   "cell_type": "code",
   "execution_count": 55,
   "metadata": {},
   "outputs": [],
   "source": [
    "from sklearn.cluster import KMeans\n",
    "km=KMeans(n_clusters=3)\n",
    "model=km.fit(X)"
   ]
  },
  {
   "cell_type": "code",
   "execution_count": 56,
   "metadata": {},
   "outputs": [],
   "source": [
    "B=pd.DataFrame(model.labels_,columns=[\"Category\"])"
   ]
  },
  {
   "cell_type": "code",
   "execution_count": 57,
   "metadata": {},
   "outputs": [
    {
     "data": {
      "text/plain": [
       "0    883\n",
       "2      8\n",
       "1      6\n",
       "Name: Category, dtype: int64"
      ]
     },
     "execution_count": 57,
     "metadata": {},
     "output_type": "execute_result"
    }
   ],
   "source": [
    "B.Category.value_counts()"
   ]
  },
  {
   "cell_type": "code",
   "execution_count": 58,
   "metadata": {},
   "outputs": [],
   "source": [
    "common_words=model.cluster_centers_.argsort()[:,:-31:-1]\n"
   ]
  },
  {
   "cell_type": "code",
   "execution_count": 59,
   "metadata": {},
   "outputs": [
    {
     "name": "stdout",
     "output_type": "stream",
     "text": [
      "0 :         say,day,vaccin,pm,protest,covid,assam,biden,coronaviru,republ,joe,delhi,eye,exercis,visit,warn,bodi,lakh,announc,trump,end,februari,farmer,today,modi,parad,govern,give,first,uk\n",
      "1 :         ahead,zone,garag,futur,friend,french,frank,fourth,found,follow,flu,fli,flew,fleet,first,fire,find,financ,fikayo,gandhi,germain,fee,governor,hank,hafiz,guwahati,guard,group,graem,gpat\n",
      "2 :         india,zone,hasina,futur,friend,french,frank,fourth,found,follow,flu,fli,flew,fleet,first,fire,find,financ,fikayo,gandhi,garag,germain,governor,hank,hafiz,guwahati,guard,group,graem,gpat\n"
     ]
    }
   ],
   "source": [
    "for num, centroid in enumerate(common_words):\n",
    "    print(str(num) + ' :         ' + ','.join(q1[word] for word in centroid))"
   ]
  },
  {
   "cell_type": "code",
   "execution_count": 110,
   "metadata": {},
   "outputs": [
    {
     "name": "stdout",
     "output_type": "stream",
     "text": [
      "Following article belongs to cluster number: 2\n"
     ]
    }
   ],
   "source": [
    "from sklearn.decomposition import NMF\n",
    "nm = NMF(n_components=3, random_state=30)\n",
    "model = nm.fit(X)\n",
    "\n",
    "new_articles = [\"Republic TV sued for content\"]\n",
    "q = nm.transform(tf.transform(new_articles)).argsort(axis=1)[:,-1]\n",
    "print(\"Following article belongs to cluster number: %d\"%q)\n"
   ]
  }
 ],
 "metadata": {
  "kernelspec": {
   "display_name": "Python 3",
   "language": "python",
   "name": "python3"
  },
  "language_info": {
   "codemirror_mode": {
    "name": "ipython",
    "version": 3
   },
   "file_extension": ".py",
   "mimetype": "text/x-python",
   "name": "python",
   "nbconvert_exporter": "python",
   "pygments_lexer": "ipython3",
   "version": "3.8.3"
  }
 },
 "nbformat": 4,
 "nbformat_minor": 4
}
